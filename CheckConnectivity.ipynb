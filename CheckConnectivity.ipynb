{
 "cells": [
  {
   "cell_type": "markdown",
   "metadata": {},
   "source": [
    "This Jupyter notebook contains the computations used to generate the results in [1, Section 4].\n",
    "\n",
    "\n",
    "References:\n",
    "\n",
    "[1] M. L. Telek. Geometry of the signed support of a multivariate polynomial and Descartes' rule of signs, 2023.\n",
    "\n",
    "[2] M.L. Telek and E. Feliu. Topological descriptors of the parameter region of multistationarity: Deciding upon connectivity, Plos. Comput. Biol., 19(3):1--38, 2023."
   ]
  },
  {
   "cell_type": "code",
   "execution_count": null,
   "metadata": {},
   "outputs": [],
   "source": [
    "#using Pkg\n",
    "#Pkg.add(\"Catalyst\")\n",
    "#Pkg.add(\"Oscar\")\n",
    "#Pkg.add(\"Linear\")"
   ]
  },
  {
   "cell_type": "code",
   "execution_count": 1,
   "metadata": {},
   "outputs": [
    {
     "name": "stderr",
     "output_type": "stream",
     "text": [
      "\u001b[32m\u001b[1mPrecompiling\u001b[22m\u001b[39m Oscar\n",
      "\u001b[36m\u001b[1m        Info\u001b[22m\u001b[39m Given Oscar was explicitly requested, output will be shown live \u001b[0K\n",
      "\u001b[0KWARNING: Method definition number_of_generators(AbstractAlgebra.PolyRing{T} where T) in module AbstractAlgebra at /home/cpb493/.julia/packages/AbstractAlgebra/UMo8v/src/Poly.jl:201 overwritten in module Oscar at /home/cpb493/.julia/packages/Oscar/59YCS/src/Rings/mpoly-affine-algebras.jl:241.\n",
      "\u001b[0KERROR: Method overwriting is not permitted during Module precompilation. Use `__precompile__(false)` to opt-out of precompilation.\n",
      "\u001b[33m  ? \u001b[39mOscar\n",
      "\u001b[36m\u001b[1m[ \u001b[22m\u001b[39m\u001b[36m\u001b[1mInfo: \u001b[22m\u001b[39mPrecompiling Oscar [f1435218-dba5-11e9-1e4d-f1a5fab5fc13]\n",
      "WARNING: Method definition number_of_generators(AbstractAlgebra.PolyRing{T} where T) in module AbstractAlgebra at /home/cpb493/.julia/packages/AbstractAlgebra/UMo8v/src/Poly.jl:201 overwritten in module Oscar at /home/cpb493/.julia/packages/Oscar/59YCS/src/Rings/mpoly-affine-algebras.jl:241.\n",
      "ERROR: Method overwriting is not permitted during Module precompilation. Use `__precompile__(false)` to opt-out of precompilation.\n",
      "\u001b[36m\u001b[1m[ \u001b[22m\u001b[39m\u001b[36m\u001b[1mInfo: \u001b[22m\u001b[39mSkipping precompilation since __precompile__(false). Importing Oscar [f1435218-dba5-11e9-1e4d-f1a5fab5fc13].\n"
     ]
    },
    {
     "name": "stdout",
     "output_type": "stream",
     "text": [
      "  ___   ____   ____    _    ____\n",
      " / _ \\ / ___| / ___|  / \\  |  _ \\   |  Combining ANTIC, GAP, Polymake, Singular\n",
      "| | | |\\___ \\| |     / _ \\ | |_) |  |  Type \"?Oscar\" for more information\n",
      "| |_| | ___) | |___ / ___ \\|  _ <   |  Manual: https://docs.oscar-system.org\n",
      " \\___/ |____/ \\____/_/   \\_\\_| \\_\\  |  Version 1.0.0\n"
     ]
    }
   ],
   "source": [
    "using Oscar\n",
    "using Catalyst\n",
    "using LinearAlgebra"
   ]
  },
  {
   "cell_type": "code",
   "execution_count": 2,
   "metadata": {},
   "outputs": [
    {
     "data": {
      "text/plain": [
       "critical_polynomial (generic function with 1 method)"
      ]
     },
     "execution_count": 2,
     "metadata": {},
     "output_type": "execute_result"
    }
   ],
   "source": [
    "include(\"CheckConnectivityRecursive.jl\")"
   ]
  },
  {
   "cell_type": "markdown",
   "metadata": {},
   "source": [
    "Before we do the computations from [1, Section 4]. We demonstrate the output of the function $CheckConnectivityRecursive()$ using the polynomial from [1,  Example 3.9.]."
   ]
  },
  {
   "cell_type": "markdown",
   "metadata": {},
   "source": [
    "## Example 3.9"
   ]
  },
  {
   "cell_type": "code",
   "execution_count": 3,
   "metadata": {},
   "outputs": [
    {
     "name": "stdout",
     "output_type": "stream",
     "text": [
      "+++++++++++++++++++++++++++++++++++++++++\n",
      "Level: 2\n",
      "dimension of the Newton polytope:  2\n",
      "# of pos. exponent vectors: 1 # of neg. exponent vectors: 3\n",
      "The support has a strict separating hyperplane\n",
      "+++++++++++++++++++++++++++++++++++++++++\n",
      "Level: 2\n",
      "dimension of the Newton polytope:  2\n",
      "# of pos. exponent vectors: 2 # of neg. exponent vectors: 2\n",
      "The support has a strict separating hyperplane\n",
      "+++++++++++++++++++++++++++++++++++++++++\n",
      "Level: 1\n",
      "dimension of the Newton polytope:  3\n",
      "# of pos. exponent vectors: 3 # of neg. exponent vectors: 5\n",
      "There are 6 pairs of parallel faces that will be checked.\n",
      "pair: 1\n",
      "+++++++++++++++++++++++++++++++++++++++++\n",
      "Level: 0\n",
      "dimension of the Newton polytope:  4\n",
      "# of pos. exponent vectors: 5 # of neg. exponent vectors: 5\n",
      "We restrict the polynomial to a proper face that contains all the negative exponent vectors\n",
      "  1.791357 seconds (1.39 M allocations: 91.193 MiB, 84.20% compilation time)\n"
     ]
    },
    {
     "data": {
      "text/plain": [
       "(true, 0)"
      ]
     },
     "execution_count": 3,
     "metadata": {},
     "output_type": "execute_result"
    }
   ],
   "source": [
    "S, (x,y,z,w) = polynomial_ring(QQ, [\"x\",\"y\",\"z\",\"w\"])\n",
    "c = [1,1,1,1,1,1,1,1,1,1]\n",
    "f = c[1]*x+c[2]*x*y - c[3]*y-c[4]+c[5]*y*z- c[6]*z- c[7]*x*z- c[8]*x*y*z +c[9]*w^3+c[10]*x*w\n",
    "\n",
    "supp,A,B = signed_support(f)\n",
    "@time CheckConnectivityRecursive(supp,A,B)"
   ]
  },
  {
   "cell_type": "markdown",
   "metadata": {},
   "source": [
    "## Weakly irreversible phosphorylation cycle"
   ]
  },
  {
   "cell_type": "markdown",
   "metadata": {},
   "source": [
    "The ODE system modeling the evolution of the concentration of the species in time is given by:\n",
    "\\begin{align*}\n",
    "\\dot{[\\mathrm{S}]} & =\\kappa_{19} [\\mathrm{Y}_8]+\\kappa_2 [\\mathrm{Y}_1]-\\kappa_1 [\\mathrm{E}][ \\mathrm{S}]-\\kappa_{20} [\\mathrm{F}] [\\mathrm{S}] \\\\\n",
    "\\dot{[\\mathrm{E}]} & =\\kappa_2 [\\mathrm{Y}_1]+\\kappa_4 [\\mathrm{Y}_2]+\\kappa_7 [\\mathrm{Y}_3]+\\kappa_9 [\\mathrm{Y}_4]-\\kappa_1 [\\mathrm{E}] [\\mathrm{S}]-\\kappa_5 [\\mathrm{E}] [\\mathrm{S}_{\\mathrm{p}}]-\\kappa_{10} [\\mathrm{E}] [\\mathrm{S}_\\mathrm{pp}]-\\kappa_6 [\\mathrm{E}] [\\mathrm{S}_\\mathrm{p}] \\\\\n",
    "\\dot{[\\mathrm{Y}_1]} & =\\kappa_1 [\\mathrm{E}] [\\mathrm{S}]-\\kappa_2 [\\mathrm{Y}_1]-\\kappa_3 [\\mathrm{Y}_1], \\qquad \\dot{[\\mathrm{Y}_2]} =\\kappa_3 [\\mathrm{Y}_1]+\\kappa_5 [\\mathrm{E}] [\\mathrm{S}_\\mathrm{p}]-\\kappa_4 [\\mathrm{Y}_2] \\\\\n",
    "\\dot{[\\mathrm{S}_\\mathrm{p}]} & =\\kappa_{14} [\\mathrm{Y}_6]+\\kappa_{17} [\\mathrm{Y}_7]+\\kappa_4 [\\mathrm{Y}_2]+\\kappa_7 [\\mathrm{Y}_3]-\\kappa_{15} [\\mathrm{F}] [\\mathrm{S}_\\mathrm{p}]-\\kappa_{16} [\\mathrm{F}] [\\mathrm{S}_\\mathrm{p}]-\\kappa_5 [\\mathrm{E}] [\\mathrm{S}_\\mathrm{p}]-\\kappa_6 [\\mathrm{E}] [\\mathrm{S}_\\mathrm{p}] \\\\\n",
    "\\dot{[\\mathrm{Y}_3]} & =\\kappa_6 [\\mathrm{E}] [\\mathrm{S}_\\mathrm{p}]-\\kappa_7 [\\mathrm{Y}_3]-\\kappa_8 [\\mathrm{Y}_3], \\qquad \\dot{[\\mathrm{Y}_4]}  =\\kappa_8 [\\mathrm{Y}_3+\\kappa_{10} [\\mathrm{E}] [\\mathrm{S}_\\mathrm{pp}]-\\kappa_9 [\\mathrm{Y}_4 \\\\\n",
    "\\dot{[\\mathrm{S}_\\mathrm{pp}]} & =\\kappa_{12} [\\mathrm{Y}_5]+\\kappa_9 [\\mathrm{Y}_4]-\\kappa_{10} [\\mathrm{E}] [\\mathrm{S}_\\mathrm{pp}]-\\kappa_{11} [\\mathrm{F}] [\\mathrm{S}_\\mathrm{pp}] \\\\\n",
    "\\dot{ [\\mathrm{F}]} & =\\kappa_{12} [\\mathrm{Y}_5]+\\kappa_{14} [\\mathrm{Y}_6]+\\kappa_{17} [\\mathrm{Y}_7]+\\kappa_{19} [\\mathrm{Y}_8]-\\kappa_{15} [\\mathrm{F}] [\\mathrm{S}_\\mathrm{p}]-\\kappa_{16} [\\mathrm{F}] [\\mathrm{S}_\\mathrm{p}]-\\kappa_{11} [\\mathrm{F}] [\\mathrm{S}_\\mathrm{pp}]-\\kappa_{20} [\\mathrm{F}] [\\mathrm{S}] \\\\\n",
    "\\dot{[\\mathrm{Y}_5]} & =\\kappa_{11} [\\mathrm{F}] [\\mathrm{S}_\\mathrm{pp}]-\\kappa_{12} [\\mathrm{Y}_5]-\\kappa_{13} [\\mathrm{Y}_5], \\qquad \\dot{[\\mathrm{Y}_6]}  =\\kappa_{13} [\\mathrm{Y}_5]-\\kappa_{14} [\\mathrm{Y}_6]+\\kappa_{15} [\\mathrm{F}] [\\mathrm{S}_\\mathrm{p}] \\\\\n",
    "\\dot{[\\mathrm{Y}_7]} & =-\\kappa_{17} [\\mathrm{Y}_7]+\\kappa_{16} [\\mathrm{F}] [\\mathrm{S}_\\mathrm{p}]-\\kappa_{18} [\\mathrm{Y}_7], \\qquad \\dot{[\\mathrm{Y}_8]}  =\\kappa_{18} [\\mathrm{Y}_7]-\\kappa_{19} [\\mathrm{Y}_8]+\\kappa_{20} [\\mathrm{F}] [\\mathrm{S}].\n",
    "\\end{align*}\n",
    "\n",
    "A choice of the matrix giving the conservation laws is \n",
    "\\begin{align*}\n",
    " W = \\begin{pmatrix}\n",
    "1 & 0 & 1 & 1 & 1 & 1 & 1 & 1 & 0 & 1 & 1 & 1 & 1\\\\\n",
    "0 & 1 & 1 & 1 & 0 & 1 & 1 & 0 & 0 & 0 & 0 & 0 & 0 \\\\\n",
    "0 & 0 & 0 & 0 & 0 & 0 & 0 & 0 & 1 & 1 & 1 & 1 & 1\n",
    "\\end{pmatrix}.\n",
    "\\end{align*}\n"
   ]
  },
  {
   "cell_type": "code",
   "execution_count": 5,
   "metadata": {},
   "outputs": [
    {
     "name": "stdout",
     "output_type": "stream",
     "text": [
      "+++++++++++++++++++++++++++++++++++++++++\n",
      "Level: 2\n",
      "dimension of the Newton polytope:  11\n",
      "# of pos. exponent vectors: 92 # of neg. exponent vectors: 148\n",
      "The support has a strict separating hyperplane\n",
      "+++++++++++++++++++++++++++++++++++++++++\n",
      "Level: 2\n",
      "dimension of the Newton polytope:  11\n",
      "# of pos. exponent vectors: 120 # of neg. exponent vectors: 80\n",
      "The support has a strict separating hyperplane\n",
      "+++++++++++++++++++++++++++++++++++++++++\n",
      "Level: 1\n",
      "dimension of the Newton polytope:  12\n",
      "# of pos. exponent vectors: 212 # of neg. exponent vectors: 228\n",
      "There are 21 pairs of parallel faces that will be checked.\n",
      "pair: 1\n",
      "+++++++++++++++++++++++++++++++++++++++++\n",
      "Level: 0\n",
      "dimension of the Newton polytope:  16\n",
      "# of pos. exponent vectors: 1020 # of neg. exponent vectors: 228\n",
      "We restrict the polynomial to a proper face that contains all the negative exponent vectors\n",
      "The parameter region of multistationarity is path connected.\n",
      " 16.934021 seconds (76.08 M allocations: 1.461 GiB, 5.46% gc time, 40.28% compilation time)\n"
     ]
    },
    {
     "data": {
      "text/plain": [
       "true"
      ]
     },
     "execution_count": 5,
     "metadata": {},
     "output_type": "execute_result"
    }
   ],
   "source": [
    "#weakly irreversible phosphorylation cycle\n",
    "#we remove some reactions according to [2, Theorem 4]\n",
    "\n",
    "rn = @reaction_network begin\n",
    "       @parameters k1 k3 k4 k5 k6 k8 k9 k10 k11 k13 k14 k15 k16 k18 k19 k20\n",
    "    @species S0(t) E(t) Y1(t) Y2(t) S1(t) Y3(t) Y4(t) S2(t) F(t) Y5(t) Y6(t) Y7(t) Y8(t)\n",
    "  k1, S0 + E --> Y1\n",
    "  #k2, Y1 --> S0 + E\n",
    "  k3, Y1 --> Y2\n",
    "  k4, Y2 --> S1+E\n",
    "  k5, S1+E --> Y2            \n",
    "  k6, S1 + E --> Y3\n",
    "  #k7, Y3 --> S1 + E\n",
    "  k8, Y3 --> Y4\n",
    "  k9, Y4 --> S2+E\n",
    "  k10, S2+E --> Y4          \n",
    "  k11, S2 + F --> Y5\n",
    "  #k12, Y5 --> S2 + F\n",
    "  k13, Y5 --> Y6\n",
    "  k14, Y6 --> S1+F\n",
    "  k15, S1+F --> Y6             \n",
    "  k16, S1 + F --> Y7\n",
    "  #k17, Y7 --> S1 + F\n",
    "  k18, Y7 --> Y8\n",
    "  k19, Y8 --> S0+F\n",
    "  k20, S0+F --> Y8\n",
    "    end  \n",
    "\n",
    "@time check_connectivity_rn(rn)"
   ]
  },
  {
   "cell_type": "markdown",
   "metadata": {},
   "source": [
    "## Strongly irreversible phosphorylation cycles"
   ]
  },
  {
   "cell_type": "code",
   "execution_count": 6,
   "metadata": {},
   "outputs": [
    {
     "name": "stdout",
     "output_type": "stream",
     "text": [
      "+++++++++++++++++++++++++++++++++++++++++\n",
      "Level: 3\n",
      "dimension of the Newton polytope:  10\n",
      "# of pos. exponent vectors: 15 # of neg. exponent vectors: 42\n",
      "The support has a strict separating hyperplane\n",
      "+++++++++++++++++++++++++++++++++++++++++\n",
      "Level: 3\n",
      "dimension of the Newton polytope:  7\n",
      "# of pos. exponent vectors: 11 # of neg. exponent vectors: 6\n",
      "The support has a strict separating hyperplane\n",
      "+++++++++++++++++++++++++++++++++++++++++\n",
      "Level: 2\n",
      "dimension of the Newton polytope:  11\n",
      "# of pos. exponent vectors: 26 # of neg. exponent vectors: 48\n",
      "There are 17 pairs of parallel faces that will be checked.\n",
      "pair: 1\n",
      "+++++++++++++++++++++++++++++++++++++++++\n",
      "Level: 2\n",
      "dimension of the Newton polytope:  5\n",
      "# of pos. exponent vectors: 4 # of neg. exponent vectors: 6\n",
      "The support has a strict separating hyperplane\n",
      "+++++++++++++++++++++++++++++++++++++++++\n",
      "Level: 1\n",
      "dimension of the Newton polytope:  12\n",
      "# of pos. exponent vectors: 30 # of neg. exponent vectors: 54\n",
      "There are 19 pairs of parallel faces that will be checked.\n",
      "pair: 1\n",
      "+++++++++++++++++++++++++++++++++++++++++\n",
      "Level: 0\n",
      "dimension of the Newton polytope:  14\n",
      "# of pos. exponent vectors: 75 # of neg. exponent vectors: 54\n",
      "We restrict the polynomial to a proper face that contains all the negative exponent vectors\n",
      "The parameter region of multistationarity is path connected.\n",
      "  1.516029 seconds (8.70 M allocations: 125.286 MiB)\n"
     ]
    },
    {
     "data": {
      "text/plain": [
       "true"
      ]
     },
     "execution_count": 6,
     "metadata": {},
     "output_type": "execute_result"
    }
   ],
   "source": [
    "#m = 4\n",
    "#we remove some reactions according to [2, Theorem 4]\n",
    "rn = @reaction_network begin\n",
    "    @parameters k1 k3 k4 k6 k7 k9 k10 k12 k13 k15 k16 k18 k19 k21 k22 k24\n",
    "    @species E(t) F(t)  S0(t) S1(t) ES0(t) FS1(t) S2(t) ES1(t) FS2(t) S3(t) ES2(t) FS3(t) S4(t) ES3(t) FS4(t)\n",
    "  k1, S0 + E --> ES0\n",
    "  #k2, ES0  --> S0 + E\n",
    "  k3, ES0  --> S1+E\n",
    "  k4, S1 + F  --> FS1\n",
    "  #k5, FS1  --> S1 + F\n",
    "  k6, FS1 --> S0 + F\n",
    "  k7, S1 + E --> ES1\n",
    "  #k8, ES1 --> S1 + E\n",
    "  k9, ES1 --> S2 + E\n",
    "  k10, S2 + F  -->FS2\n",
    " # k11, FS2 --> S2 + F\n",
    "  k12, FS2 --> S1 + F\n",
    "#----------------------\n",
    "  k13, S2+E --> ES2\n",
    "  #k14, ES2,S2+E\n",
    "  k15, ES2 --> S3 + E\n",
    "  k16, S3 + F --> FS3\n",
    "  #k17, FS3 --> S3 + F\n",
    "  k18, FS3 -->  S2 + F\n",
    "  k19, S3 + E -->  ES3\n",
    "  #k20, ES3 --> S3 + E\n",
    "  k21, ES3 -->  S4 + E\n",
    "  k22, S4 + F --> FS4\n",
    "  #k23, FS4 --> S4 + F\n",
    "  k24, FS4 -->  S3 + F\n",
    "    end \n",
    "\n",
    "@time check_connectivity_rn(rn)"
   ]
  },
  {
   "cell_type": "code",
   "execution_count": 7,
   "metadata": {},
   "outputs": [
    {
     "name": "stdout",
     "output_type": "stream",
     "text": [
      "+++++++++++++++++++++++++++++++++++++++++\n",
      "Level: 3\n",
      "dimension of the Newton polytope:  13\n",
      "# of pos. exponent vectors: 35 # of neg. exponent vectors: 80\n",
      "The support has a strict separating hyperplane\n",
      "+++++++++++++++++++++++++++++++++++++++++\n",
      "Level: 3\n",
      "dimension of the Newton polytope:  9\n",
      "# of pos. exponent vectors: 16 # of neg. exponent vectors: 10\n",
      "The support has a strict separating hyperplane\n",
      "+++++++++++++++++++++++++++++++++++++++++\n",
      "Level: 2\n",
      "dimension of the Newton polytope:  14\n",
      "# of pos. exponent vectors: 51 # of neg. exponent vectors: 90\n",
      "There are 21 pairs of parallel faces that will be checked.\n",
      "pair: 1\n",
      "+++++++++++++++++++++++++++++++++++++++++\n",
      "Level: 2\n",
      "dimension of the Newton polytope:  7\n",
      "# of pos. exponent vectors: 7 # of neg. exponent vectors: 10\n",
      "The support has a strict separating hyperplane\n",
      "+++++++++++++++++++++++++++++++++++++++++\n",
      "Level: 1\n",
      "dimension of the Newton polytope:  15\n",
      "# of pos. exponent vectors: 58 # of neg. exponent vectors: 100\n",
      "There are 23 pairs of parallel faces that will be checked.\n",
      "pair: 1\n",
      "+++++++++++++++++++++++++++++++++++++++++\n",
      "Level: 0\n",
      "dimension of the Newton polytope:  17\n",
      "# of pos. exponent vectors: 126 # of neg. exponent vectors: 100\n",
      "We restrict the polynomial to a proper face that contains all the negative exponent vectors\n",
      "The parameter region of multistationarity is path connected.\n",
      "  5.945031 seconds (32.48 M allocations: 604.973 MiB, 4.60% gc time, 0.20% compilation time)\n"
     ]
    },
    {
     "data": {
      "text/plain": [
       "true"
      ]
     },
     "execution_count": 7,
     "metadata": {},
     "output_type": "execute_result"
    }
   ],
   "source": [
    "#m = 5\n",
    "#we remove some reactions according to [2, Theorem 4]\n",
    "rn = @reaction_network begin\n",
    "    @parameters k1 k3 k4 k6 k7 k9 k10 k12 k13 k15 k16 k18 k19 k21 k22 k24 k25 k27 k28 k30\n",
    "    @species E(t) F(t)  S0(t) S1(t) ES0(t) FS1(t) S2(t) ES1(t) FS2(t) S3(t) ES2(t) FS3(t) S4(t) ES3(t) FS4(t) S5(t) ES4(t) FS5(t)\n",
    "  k1, S0 + E --> ES0\n",
    "  #k2, ES0  --> S0 + E\n",
    "  k3, ES0  --> S1+E\n",
    "  k4, S1 + F  --> FS1\n",
    "  #k5, FS1  --> S1 + F\n",
    "  k6, FS1 --> S0 + F\n",
    "  k7, S1 + E --> ES1\n",
    "  #k8, ES1 --> S1 + E\n",
    "  k9, ES1 --> S2 + E\n",
    "  k10, S2 + F  -->FS2\n",
    " # k11, FS2 --> S2 + F\n",
    "  k12, FS2 --> S1 + F\n",
    "#----------------------\n",
    "  k13, S2+E --> ES2\n",
    "  #k14, ES2,S2+E\n",
    "  k15, ES2 --> S3 + E\n",
    "  k16, S3 + F --> FS3\n",
    "  #k17, FS3 --> S3 + F\n",
    "  k18, FS3 -->  S2 + F\n",
    "  k19, S3 + E -->  ES3\n",
    "  #k20, ES3 --> S3 + E\n",
    "  k21, ES3 -->  S4 + E\n",
    "  k22, S4 + F --> FS4\n",
    "  #k23, FS4 --> S4 + F\n",
    "  k24, FS4 -->  S3 + F\n",
    "  #-----------------------\n",
    "  k25, S4+E --> ES4\n",
    "  #k26, ES4,S4+E\n",
    "  k27, ES4 --> S5 + E\n",
    "  k28, S5 + F --> FS5\n",
    "  #k29, FS5 --> S5 + F\n",
    "  k30, FS5 -->  S4 + F\n",
    "    end \n",
    "\n",
    "@time check_connectivity_rn(rn)"
   ]
  },
  {
   "cell_type": "code",
   "execution_count": 8,
   "metadata": {},
   "outputs": [
    {
     "name": "stdout",
     "output_type": "stream",
     "text": [
      "+++++++++++++++++++++++++++++++++++++++++\n",
      "Level: 3\n",
      "dimension of the Newton polytope:  16\n",
      "# of pos. exponent vectors: 68 # of neg. exponent vectors: 135\n",
      "The support has a strict separating hyperplane\n",
      "+++++++++++++++++++++++++++++++++++++++++\n",
      "Level: 3\n",
      "dimension of the Newton polytope:  11\n",
      "# of pos. exponent vectors: 22 # of neg. exponent vectors: 15\n",
      "The support has a strict separating hyperplane\n",
      "+++++++++++++++++++++++++++++++++++++++++\n",
      "Level: 2\n",
      "dimension of the Newton polytope:  17\n",
      "# of pos. exponent vectors: 90 # of neg. exponent vectors: 150\n",
      "There are 25 pairs of parallel faces that will be checked.\n",
      "pair: 1\n",
      "+++++++++++++++++++++++++++++++++++++++++\n",
      "Level: 2\n",
      "dimension of the Newton polytope:  9\n",
      "# of pos. exponent vectors: 11 # of neg. exponent vectors: 15\n",
      "The support has a strict separating hyperplane\n",
      "+++++++++++++++++++++++++++++++++++++++++\n",
      "Level: 1\n",
      "dimension of the Newton polytope:  18\n",
      "# of pos. exponent vectors: 101 # of neg. exponent vectors: 165\n",
      "There are 27 pairs of parallel faces that will be checked.\n",
      "pair: 1\n",
      "+++++++++++++++++++++++++++++++++++++++++\n",
      "Level: 0\n",
      "dimension of the Newton polytope:  20\n",
      "# of pos. exponent vectors: 196 # of neg. exponent vectors: 165\n",
      "We restrict the polynomial to a proper face that contains all the negative exponent vectors\n",
      "The parameter region of multistationarity is path connected.\n",
      " 21.752698 seconds (84.14 M allocations: 2.416 GiB, 2.59% gc time)\n"
     ]
    },
    {
     "data": {
      "text/plain": [
       "true"
      ]
     },
     "execution_count": 8,
     "metadata": {},
     "output_type": "execute_result"
    }
   ],
   "source": [
    "#m = 6\n",
    "#we remove some reactions according to [2, Theorem 4]\n",
    "rn = @reaction_network begin\n",
    "    @parameters k1 k3 k4 k6 k7 k9 k10 k12 k13 k15 k16 k18 k19 k21 k22 k24 k25 k27 k28 k30 k31 k33 k34 k36\n",
    "    @species E(t) F(t)  S0(t) S1(t) ES0(t) FS1(t) S2(t) ES1(t) FS2(t) S3(t) ES2(t) FS3(t) S4(t) ES3(t) FS4(t) S5(t) ES4(t) FS5(t) S6(t) ES5(t) FS6(t)\n",
    "  k1, S0 + E --> ES0\n",
    "  #k2, ES0  --> S0 + E\n",
    "  k3, ES0  --> S1+E\n",
    "  k4, S1 + F  --> FS1\n",
    "  #k5, FS1  --> S1 + F\n",
    "  k6, FS1 --> S0 + F\n",
    "  k7, S1 + E --> ES1\n",
    "  #k8, ES1 --> S1 + E\n",
    "  k9, ES1 --> S2 + E\n",
    "  k10, S2 + F  -->FS2\n",
    " # k11, FS2 --> S2 + F\n",
    "  k12, FS2 --> S1 + F\n",
    "#----------------------\n",
    "  k13, S2+E --> ES2\n",
    "  #k14, ES2,S2+E\n",
    "  k15, ES2 --> S3 + E\n",
    "  k16, S3 + F --> FS3\n",
    "  #k17, FS3 --> S3 + F\n",
    "  k18, FS3 -->  S2 + F\n",
    "  k19, S3 + E -->  ES3\n",
    "  #k20, ES3 --> S3 + E\n",
    "  k21, ES3 -->  S4 + E\n",
    "  k22, S4 + F --> FS4\n",
    "  #k23, FS4 --> S4 + F\n",
    "  k24, FS4 -->  S3 + F\n",
    "  #-----------------------\n",
    "  k25, S4+E --> ES4\n",
    "  #k26, ES4,S4+E\n",
    "  k27, ES4 --> S5 + E\n",
    "  k28, S5 + F --> FS5\n",
    "  #k29, FS5 --> S5 + F\n",
    "  k30, FS5 -->  S4 + F\n",
    "   #-----------------------\n",
    "  k31, S5+E --> ES5\n",
    "  #k32, ES5,S5+E\n",
    "  k33, ES5 --> S6 + E\n",
    "  k34, S6 + F --> FS6\n",
    "  #k35, FS6 --> S5 + F\n",
    "  k36, FS6 -->  S5 + F\n",
    "    \n",
    "    end \n",
    "\n",
    "@time check_connectivity_rn(rn)"
   ]
  },
  {
   "cell_type": "code",
   "execution_count": 4,
   "metadata": {},
   "outputs": [
    {
     "name": "stdout",
     "output_type": "stream",
     "text": [
      "+++++++++++++++++++++++++++++++++++++++++\n",
      "Level: 3\n",
      "dimension of the Newton polytope:  19\n",
      "# of pos. exponent vectors: 117 # of neg. exponent vectors: 210\n",
      "The support has a strict separating hyperplane\n",
      "+++++++++++++++++++++++++++++++++++++++++\n",
      "Level: 3\n",
      "dimension of the Newton polytope:  13\n",
      "# of pos. exponent vectors: 29 # of neg. exponent vectors: 21\n",
      "The support has a strict separating hyperplane\n",
      "+++++++++++++++++++++++++++++++++++++++++\n",
      "Level: 2\n",
      "dimension of the Newton polytope:  20\n",
      "# of pos. exponent vectors: 146 # of neg. exponent vectors: 231\n",
      "There are 29 pairs of parallel faces that will be checked.\n",
      "pair: 1\n",
      "+++++++++++++++++++++++++++++++++++++++++\n",
      "Level: 2\n",
      "dimension of the Newton polytope:  11\n",
      "# of pos. exponent vectors: 16 # of neg. exponent vectors: 21\n",
      "The support has a strict separating hyperplane\n",
      "+++++++++++++++++++++++++++++++++++++++++\n",
      "Level: 1\n",
      "dimension of the Newton polytope:  21\n",
      "# of pos. exponent vectors: 162 # of neg. exponent vectors: 252\n",
      "There are 31 pairs of parallel faces that will be checked.\n",
      "pair: 1\n",
      "+++++++++++++++++++++++++++++++++++++++++\n",
      "Level: 0\n",
      "dimension of the Newton polytope:  23\n",
      "# of pos. exponent vectors: 288 # of neg. exponent vectors: 252\n",
      "We restrict the polynomial to a proper face that contains all the negative exponent vectors\n",
      "The parameter region of multistationarity is path connected.\n",
      " 88.356755 seconds (228.91 M allocations: 9.285 GiB, 10.47% gc time, 6.69% compilation time)\n"
     ]
    },
    {
     "data": {
      "text/plain": [
       "true"
      ]
     },
     "execution_count": 4,
     "metadata": {},
     "output_type": "execute_result"
    }
   ],
   "source": [
    "#m = 7\n",
    "#we remove some reactions according to [2, Theorem 4]\n",
    "rn = @reaction_network begin\n",
    "    @parameters k1 k3 k4 k6 k7 k9 k10 k12 k13 k15 k16 k18 k19 k21 k22 k24 k25 k27 k28 k30 k31 k33 k34 k36 k37 k39 k40 k42\n",
    "    @species E(t) F(t)  S0(t) S1(t) ES0(t) FS1(t) S2(t) ES1(t) FS2(t) S3(t) ES2(t) FS3(t) S4(t) ES3(t) FS4(t) S5(t) ES4(t) FS5(t) S6(t) ES5(t) FS6(t) S7(t) ES6(t) FS7(t)\n",
    "  k1, S0 + E --> ES0\n",
    "  #k2, ES0  --> S0 + E\n",
    "  k3, ES0  --> S1+E\n",
    "  k4, S1 + F  --> FS1\n",
    "  #k5, FS1  --> S1 + F\n",
    "  k6, FS1 --> S0 + F\n",
    "  k7, S1 + E --> ES1\n",
    "  #k8, ES1 --> S1 + E\n",
    "  k9, ES1 --> S2 + E\n",
    "  k10, S2 + F  -->FS2\n",
    " # k11, FS2 --> S2 + F\n",
    "  k12, FS2 --> S1 + F\n",
    "#----------------------\n",
    "  k13, S2+E --> ES2\n",
    "  #k14, ES2,S2+E\n",
    "  k15, ES2 --> S3 + E\n",
    "  k16, S3 + F --> FS3\n",
    "  #k17, FS3 --> S3 + F\n",
    "  k18, FS3 -->  S2 + F\n",
    "  k19, S3 + E -->  ES3\n",
    "  #k20, ES3 --> S3 + E\n",
    "  k21, ES3 -->  S4 + E\n",
    "  k22, S4 + F --> FS4\n",
    "  #k23, FS4 --> S4 + F\n",
    "  k24, FS4 -->  S3 + F\n",
    "  #-----------------------\n",
    "  k25, S4+E --> ES4\n",
    "  #k26, ES4,S4+E\n",
    "  k27, ES4 --> S5 + E\n",
    "  k28, S5 + F --> FS5\n",
    "  #k29, FS5 --> S5 + F\n",
    "  k30, FS5 -->  S4 + F\n",
    "   #-----------------------\n",
    "  k31, S5+E --> ES5\n",
    "  #k32, ES5,S5+E\n",
    "  k33, ES5 --> S6 + E\n",
    "  k34, S6 + F --> FS6\n",
    "  #k35, FS6 --> S5 + F\n",
    "  k36, FS6 -->  S5 + F\n",
    "       #-----------------------\n",
    "  k37, S6+E --> ES6\n",
    "  #k38, ES6,S6+E\n",
    "  k39, ES6 --> S7 + E\n",
    "  k40, S7 + F --> FS7\n",
    "  #k41, FS7 --> S6 + F\n",
    "  k42, FS7 -->  S6 + F\n",
    "    \n",
    "    end \n",
    "\n",
    "@time check_connectivity_rn(rn)"
   ]
  },
  {
   "cell_type": "markdown",
   "metadata": {},
   "source": [
    "## End of file."
   ]
  }
 ],
 "metadata": {
  "@webio": {
   "lastCommId": null,
   "lastKernelId": null
  },
  "kernelspec": {
   "display_name": "Julia 1.10.2",
   "language": "julia",
   "name": "julia-1.10"
  },
  "language_info": {
   "file_extension": ".jl",
   "mimetype": "application/julia",
   "name": "julia",
   "version": "1.10.2"
  }
 },
 "nbformat": 4,
 "nbformat_minor": 4
}
